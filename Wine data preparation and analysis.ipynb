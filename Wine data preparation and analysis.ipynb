{
  "nbformat": 4,
  "nbformat_minor": 0,
  "metadata": {
    "language_info": {
      "codemirror_mode": {
        "name": "ipython",
        "version": 3
      },
      "file_extension": ".py",
      "mimetype": "text/x-python",
      "name": "python",
      "nbconvert_exporter": "python",
      "pygments_lexer": "ipython3",
      "version": "3.8.5-final"
    },
    "orig_nbformat": 2,
    "kernelspec": {
      "name": "python3",
      "display_name": "Python 3",
      "language": "python"
    },
    "colab": {
      "name": "Wine Project.ipynb",
      "provenance": [],
      "toc_visible": true
    }
  },
  "cells": [
    {
      "cell_type": "code",
      "metadata": {
        "id": "j44b33BBjHqS"
      },
      "source": [
        "import pandas as pd\n",
        "import numpy as np"
      ],
      "execution_count": 1,
      "outputs": []
    },
    {
      "cell_type": "code",
      "metadata": {
        "id": "1Kp_ZJNogbzA"
      },
      "source": [
        "red_wine = pd.read_csv('https://archive.ics.uci.edu/ml/machine-learning-databases/wine-quality/winequality-red.csv', ';')"
      ],
      "execution_count": 2,
      "outputs": []
    },
    {
      "cell_type": "code",
      "metadata": {
        "id": "L-cmi2wGgX2K"
      },
      "source": [
        "white_wine = pd.read_csv('https://archive.ics.uci.edu/ml/machine-learning-databases/wine-quality/winequality-white.csv', ';')"
      ],
      "execution_count": 3,
      "outputs": []
    },
    {
      "cell_type": "markdown",
      "metadata": {
        "id": "cpoSwV3rkS2b"
      },
      "source": [
        "# Data preparation and analysis"
      ]
    },
    {
      "cell_type": "code",
      "metadata": {
        "id": "PWhpDAL2i4uG",
        "colab": {
          "base_uri": "https://localhost:8080/"
        },
        "outputId": "77dd0424-c8e1-44ae-c7e5-17915bc99256"
      },
      "source": [
        "# Having two different data set for Red and White wine produced by a winery company in the same region where \n",
        "# the consulting company wishes to establish, ergo the analysis.\n",
        "# First step is to merge the data producing a new variable or category to determined the type of wine\n",
        "# \"red\" or \"white\".\n",
        "\n",
        "print(red_wine)"
      ],
      "execution_count": 4,
      "outputs": [
        {
          "output_type": "stream",
          "text": [
            "      fixed acidity  volatile acidity  citric acid  ...  sulphates  alcohol  quality\n",
            "0               7.4             0.700         0.00  ...       0.56      9.4        5\n",
            "1               7.8             0.880         0.00  ...       0.68      9.8        5\n",
            "2               7.8             0.760         0.04  ...       0.65      9.8        5\n",
            "3              11.2             0.280         0.56  ...       0.58      9.8        6\n",
            "4               7.4             0.700         0.00  ...       0.56      9.4        5\n",
            "...             ...               ...          ...  ...        ...      ...      ...\n",
            "1594            6.2             0.600         0.08  ...       0.58     10.5        5\n",
            "1595            5.9             0.550         0.10  ...       0.76     11.2        6\n",
            "1596            6.3             0.510         0.13  ...       0.75     11.0        6\n",
            "1597            5.9             0.645         0.12  ...       0.71     10.2        5\n",
            "1598            6.0             0.310         0.47  ...       0.66     11.0        6\n",
            "\n",
            "[1599 rows x 12 columns]\n"
          ],
          "name": "stdout"
        }
      ]
    },
    {
      "cell_type": "code",
      "metadata": {
        "id": "-FOt37jZi4uS"
      },
      "source": [
        "#create a new variable 'wine_type': \"red\" and \"white\" for an easier concatenation in ONE dataframe.\n",
        "\n",
        "red_wine['wine_type'] = 'red'"
      ],
      "execution_count": 5,
      "outputs": []
    },
    {
      "cell_type": "code",
      "metadata": {
        "id": "1Q890pnzi4uT"
      },
      "source": [
        "white_wine['wine_type'] = 'white'"
      ],
      "execution_count": 6,
      "outputs": []
    },
    {
      "cell_type": "code",
      "metadata": {
        "id": "JrgUawPKhIzv",
        "colab": {
          "base_uri": "https://localhost:8080/"
        },
        "outputId": "1b02e108-e922-418c-e15b-66a7025f3d89"
      },
      "source": [
        "# In both  datasets there was already collected and provided a categorization on the wines produced. \n",
        "# from 1 - 9 where 9 is the highest and 1 the lowest quality.\n",
        "# For an easier analysis and creation of a prediction model, the quality of wines would be re-organized\n",
        "# in \"low\", \"medium\" and \"high\" quality labels.\n",
        "\n",
        "red_wine['quality'].value_counts()"
      ],
      "execution_count": 7,
      "outputs": [
        {
          "output_type": "execute_result",
          "data": {
            "text/plain": [
              "5    681\n",
              "6    638\n",
              "7    199\n",
              "4     53\n",
              "8     18\n",
              "3     10\n",
              "Name: quality, dtype: int64"
            ]
          },
          "metadata": {
            "tags": []
          },
          "execution_count": 7
        }
      ]
    },
    {
      "cell_type": "code",
      "metadata": {
        "id": "OSAJeS1bi4uT"
      },
      "source": [
        "# bucket \"red\" and \"white\" wine quality scores into qualitative quality labels\n",
        "\n",
        "red_wine['quality_label'] = red_wine['quality'].apply(lambda value: 'low'\n",
        "if value <= 5 else 'medium'\n",
        "if value <= 7 else 'high')"
      ],
      "execution_count": 8,
      "outputs": []
    },
    {
      "cell_type": "code",
      "metadata": {
        "id": "eqC69vyGi4uT"
      },
      "source": [
        "red_wine['quality_label'] = pd.Categorical(red_wine['quality_label'],\n",
        "categories=['low', 'medium', 'high'])"
      ],
      "execution_count": 9,
      "outputs": []
    },
    {
      "cell_type": "code",
      "metadata": {
        "id": "_MyozLTBi4uU"
      },
      "source": [
        "white_wine['quality_label'] = white_wine['quality'].apply(lambda value: 'low'\n",
        "if value <= 5 else 'medium'\n",
        "if value <= 7 else 'high')"
      ],
      "execution_count": 10,
      "outputs": []
    },
    {
      "cell_type": "code",
      "metadata": {
        "id": "cMrGcm86i4uU"
      },
      "source": [
        "white_wine['quality_label'] = pd.Categorical(white_wine['quality_label'],\n",
        "categories=['low', 'medium', 'high'])\n",
        "\n",
        "# we transform the new column from an object to a category in order to tell the machine not to order the data \n",
        "# in alphabetic order and let it know that all have \"the same value\""
      ],
      "execution_count": 11,
      "outputs": []
    },
    {
      "cell_type": "code",
      "metadata": {
        "id": "3r3Pm3U-i4uV"
      },
      "source": [
        "#combine the two datasets into one : \"wines\"\n",
        "\n",
        "wines = pd.concat([red_wine, white_wine])"
      ],
      "execution_count": 12,
      "outputs": []
    },
    {
      "cell_type": "code",
      "metadata": {
        "id": "ohLNLZTGi4uV"
      },
      "source": [
        "# re-shuffle records just to randomize data points\n",
        "wines = wines.sample(frac=1, random_state=42).reset_index(drop=True)"
      ],
      "execution_count": 13,
      "outputs": []
    },
    {
      "cell_type": "code",
      "metadata": {
        "id": "TGaaJJMwi4uW",
        "colab": {
          "base_uri": "https://localhost:8080/"
        },
        "outputId": "80e3f7c0-cc79-4cc3-88f5-ba9d4697e39f"
      },
      "source": [
        "#Observe if there is missing values\n",
        "wines.isnull().any()\n"
      ],
      "execution_count": 14,
      "outputs": [
        {
          "output_type": "execute_result",
          "data": {
            "text/plain": [
              "fixed acidity           False\n",
              "volatile acidity        False\n",
              "citric acid             False\n",
              "residual sugar          False\n",
              "chlorides               False\n",
              "free sulfur dioxide     False\n",
              "total sulfur dioxide    False\n",
              "density                 False\n",
              "pH                      False\n",
              "sulphates               False\n",
              "alcohol                 False\n",
              "quality                 False\n",
              "wine_type               False\n",
              "quality_label           False\n",
              "dtype: bool"
            ]
          },
          "metadata": {
            "tags": []
          },
          "execution_count": 14
        }
      ]
    },
    {
      "cell_type": "code",
      "metadata": {
        "id": "MvuT66QVi4uX",
        "colab": {
          "base_uri": "https://localhost:8080/"
        },
        "outputId": "376e7074-832d-4d21-cccc-1bf38a761cb9"
      },
      "source": [
        "wines.isnull().sum().sum()"
      ],
      "execution_count": 15,
      "outputs": [
        {
          "output_type": "execute_result",
          "data": {
            "text/plain": [
              "0"
            ]
          },
          "metadata": {
            "tags": []
          },
          "execution_count": 15
        }
      ]
    },
    {
      "cell_type": "code",
      "metadata": {
        "id": "IeNHtRoXw35x"
      },
      "source": [
        "#save changes for each dataframe and the new combined one\n",
        "red_wine.to_csv('red_wine.csv')\n"
      ],
      "execution_count": 16,
      "outputs": []
    },
    {
      "cell_type": "code",
      "metadata": {
        "id": "iCu84j1TxZLr"
      },
      "source": [
        "white_wine.to_csv(\"white_wine.csv\")"
      ],
      "execution_count": 17,
      "outputs": []
    },
    {
      "cell_type": "code",
      "metadata": {
        "id": "kZmxTuhji4uX"
      },
      "source": [
        "#save new dataframe\n",
        "wines.to_csv('wines.csv')"
      ],
      "execution_count": null,
      "outputs": []
    },
    {
      "cell_type": "code",
      "metadata": {
        "id": "RwPFHq9A4Bvp"
      },
      "source": [
        "# One of the first observations from comparing \"red\" and \"white\" wine is:"
      ],
      "execution_count": null,
      "outputs": []
    },
    {
      "cell_type": "code",
      "metadata": {
        "id": "CkK-UYRw4EVP",
        "outputId": "6ffe1207-38aa-4c5a-87ba-d8651cef604f",
        "colab": {
          "base_uri": "https://localhost:8080/"
        }
      },
      "source": [
        "# that  white wine is much more produced in the region and has very high quality wines in this category\n",
        "table2 = pd.pivot_table(data=white_wine,index='quality_label',values='quality',aggfunc=np.sum)\n",
        "print(table2)"
      ],
      "execution_count": 18,
      "outputs": [
        {
          "output_type": "stream",
          "text": [
            "               quality\n",
            "quality_label         \n",
            "low               7997\n",
            "medium           19348\n",
            "high              1445\n"
          ],
          "name": "stdout"
        }
      ]
    },
    {
      "cell_type": "code",
      "metadata": {
        "id": "l3DzwAGx4OGI",
        "outputId": "4629bd47-6c88-42a2-f58d-76fc3cb9bf19",
        "colab": {
          "base_uri": "https://localhost:8080/"
        }
      },
      "source": [
        "#whilst red wine is less produced and mostly low to medium quality wine is expected from red type of wine\n",
        "table3 = pd.pivot_table(data=red_wine,index='quality_label',values='quality',aggfunc=np.sum)\n",
        "print(table3)"
      ],
      "execution_count": 19,
      "outputs": [
        {
          "output_type": "stream",
          "text": [
            "               quality\n",
            "quality_label         \n",
            "low               3647\n",
            "medium            5221\n",
            "high               144\n"
          ],
          "name": "stdout"
        }
      ]
    },
    {
      "cell_type": "code",
      "metadata": {
        "id": "M74JfRkJ4P7G",
        "outputId": "520f1712-3be5-4561-f842-36f84d6ab27b",
        "colab": {
          "base_uri": "https://localhost:8080/",
          "height": 196
        }
      },
      "source": [
        "# From the comparison from the ingrediants in \"red\" and \"white\" wine, one can easily observe that \n",
        "# \"volatile acidity\", \"residual sugar\", \"chlorides\", \"free sulfur dioxide\", \"total sulfur dioxide\"\n",
        "# and \"sulphates\" present an important difference in levels in red and white type of wines.\n",
        "wines.groupby(\"wine_type\").mean('fixed acidity')"
      ],
      "execution_count": 20,
      "outputs": [
        {
          "output_type": "execute_result",
          "data": {
            "text/html": [
              "<div>\n",
              "<style scoped>\n",
              "    .dataframe tbody tr th:only-of-type {\n",
              "        vertical-align: middle;\n",
              "    }\n",
              "\n",
              "    .dataframe tbody tr th {\n",
              "        vertical-align: top;\n",
              "    }\n",
              "\n",
              "    .dataframe thead th {\n",
              "        text-align: right;\n",
              "    }\n",
              "</style>\n",
              "<table border=\"1\" class=\"dataframe\">\n",
              "  <thead>\n",
              "    <tr style=\"text-align: right;\">\n",
              "      <th></th>\n",
              "      <th>fixed acidity</th>\n",
              "      <th>volatile acidity</th>\n",
              "      <th>citric acid</th>\n",
              "      <th>residual sugar</th>\n",
              "      <th>chlorides</th>\n",
              "      <th>free sulfur dioxide</th>\n",
              "      <th>total sulfur dioxide</th>\n",
              "      <th>density</th>\n",
              "      <th>pH</th>\n",
              "      <th>sulphates</th>\n",
              "      <th>alcohol</th>\n",
              "      <th>quality</th>\n",
              "    </tr>\n",
              "    <tr>\n",
              "      <th>wine_type</th>\n",
              "      <th></th>\n",
              "      <th></th>\n",
              "      <th></th>\n",
              "      <th></th>\n",
              "      <th></th>\n",
              "      <th></th>\n",
              "      <th></th>\n",
              "      <th></th>\n",
              "      <th></th>\n",
              "      <th></th>\n",
              "      <th></th>\n",
              "      <th></th>\n",
              "    </tr>\n",
              "  </thead>\n",
              "  <tbody>\n",
              "    <tr>\n",
              "      <th>red</th>\n",
              "      <td>8.319637</td>\n",
              "      <td>0.527821</td>\n",
              "      <td>0.270976</td>\n",
              "      <td>2.538806</td>\n",
              "      <td>0.087467</td>\n",
              "      <td>15.874922</td>\n",
              "      <td>46.467792</td>\n",
              "      <td>0.996747</td>\n",
              "      <td>3.311113</td>\n",
              "      <td>0.658149</td>\n",
              "      <td>10.422983</td>\n",
              "      <td>5.636023</td>\n",
              "    </tr>\n",
              "    <tr>\n",
              "      <th>white</th>\n",
              "      <td>6.854788</td>\n",
              "      <td>0.278241</td>\n",
              "      <td>0.334192</td>\n",
              "      <td>6.391415</td>\n",
              "      <td>0.045772</td>\n",
              "      <td>35.308085</td>\n",
              "      <td>138.360657</td>\n",
              "      <td>0.994027</td>\n",
              "      <td>3.188267</td>\n",
              "      <td>0.489847</td>\n",
              "      <td>10.514267</td>\n",
              "      <td>5.877909</td>\n",
              "    </tr>\n",
              "  </tbody>\n",
              "</table>\n",
              "</div>"
            ],
            "text/plain": [
              "           fixed acidity  volatile acidity  ...    alcohol   quality\n",
              "wine_type                                   ...                     \n",
              "red             8.319637          0.527821  ...  10.422983  5.636023\n",
              "white           6.854788          0.278241  ...  10.514267  5.877909\n",
              "\n",
              "[2 rows x 12 columns]"
            ]
          },
          "metadata": {
            "tags": []
          },
          "execution_count": 20
        }
      ]
    },
    {
      "cell_type": "code",
      "metadata": {
        "id": "PR_1nvQ94Tyz",
        "outputId": "feb008c7-d748-4cb6-9ba3-463b4cba352a",
        "colab": {
          "base_uri": "https://localhost:8080/"
        }
      },
      "source": [
        "# taking \"total sulfur dioxide\" is a good way to example the above.\n",
        "# and also a good way to observe that the less of this component in both red and white wine, the higher \n",
        "# the quality of the wine.\n",
        "table = pd.pivot_table(data=red_wine,index='quality_label',values='total sulfur dioxide',aggfunc=np.sum)\n",
        "print(table)"
      ],
      "execution_count": 21,
      "outputs": [
        {
          "output_type": "stream",
          "text": [
            "               total sulfur dioxide\n",
            "quality_label                      \n",
            "low                         40656.0\n",
            "medium                      33044.0\n",
            "high                          602.0\n"
          ],
          "name": "stdout"
        }
      ]
    },
    {
      "cell_type": "code",
      "metadata": {
        "id": "FFPhipoV4XGz",
        "outputId": "98c1e642-e7a8-4ba9-8b10-ec1ca8590d45",
        "colab": {
          "base_uri": "https://localhost:8080/"
        }
      },
      "source": [
        "table1 = pd.pivot_table(data=white_wine,index='quality_label',values='total sulfur dioxide',aggfunc=np.sum)\n",
        "print(table1)"
      ],
      "execution_count": 22,
      "outputs": [
        {
          "output_type": "stream",
          "text": [
            "               total sulfur dioxide\n",
            "quality_label                      \n",
            "low                        243700.5\n",
            "medium                     411331.0\n",
            "high                        22659.0\n"
          ],
          "name": "stdout"
        }
      ]
    },
    {
      "cell_type": "code",
      "metadata": {
        "id": "nFabWBUK4ZLU"
      },
      "source": [
        "#Given the relationship between the components of the wine and its quality. The next step is to visualize\n",
        "# the mentioned observation. "
      ],
      "execution_count": null,
      "outputs": []
    }
  ]
}
{
  "nbformat": 4,
  "nbformat_minor": 0,
  "metadata": {
    "language_info": {
      "codemirror_mode": {
        "name": "ipython",
        "version": 3
      },
      "file_extension": ".py",
      "mimetype": "text/x-python",
      "name": "python",
      "nbconvert_exporter": "python",
      "pygments_lexer": "ipython3",
      "version": "3.8.5-final"
    },
    "orig_nbformat": 2,
    "kernelspec": {
      "name": "python3",
      "display_name": "Python 3",
      "language": "python"
    },
    "colab": {
      "name": "Wine Project.ipynb",
      "provenance": [],
      "toc_visible": true
    }
  },
  "cells": [
    {
      "cell_type": "code",
      "metadata": {
        "id": "j44b33BBjHqS"
      },
      "source": [
        "import pandas as pd\n",
        "import numpy as np"
      ],
      "execution_count": 2,
      "outputs": []
    },
    {
      "cell_type": "code",
      "metadata": {
        "id": "1Kp_ZJNogbzA"
      },
      "source": [
        "red_wine = pd.read_csv('https://archive.ics.uci.edu/ml/machine-learning-databases/wine-quality/winequality-red.csv', ';')"
      ],
      "execution_count": 3,
      "outputs": []
    },
    {
      "cell_type": "code",
      "metadata": {
        "id": "L-cmi2wGgX2K"
      },
      "source": [
        "white_wine = pd.read_csv('https://archive.ics.uci.edu/ml/machine-learning-databases/wine-quality/winequality-white.csv', ';')"
      ],
      "execution_count": 4,
      "outputs": []
    },
    {
      "cell_type": "markdown",
      "metadata": {
        "id": "cpoSwV3rkS2b"
      },
      "source": [
        "# Data preparation and analysis"
      ]
    },
    {
      "cell_type": "code",
      "metadata": {
        "id": "PWhpDAL2i4uG",
        "outputId": "10aef930-b2f0-4bd1-98b1-3c87cb144740",
        "colab": {
          "base_uri": "https://localhost:8080/"
        }
      },
      "source": [
        "# Having two different data set for Red and White wine produced by a winery company in the same region where \n",
        "# the consulting company wishes to establish, ergo the analysis.\n",
        "# First step is to merge the data producing a new variable or category to determined the type of wine\n",
        "# \"red\" or \"white\".\n",
        "\n",
        "print(red_wine)"
      ],
      "execution_count": 5,
      "outputs": [
        {
          "output_type": "stream",
          "text": [
            "      fixed acidity  volatile acidity  citric acid  ...  sulphates  alcohol  quality\n",
            "0               7.4             0.700         0.00  ...       0.56      9.4        5\n",
            "1               7.8             0.880         0.00  ...       0.68      9.8        5\n",
            "2               7.8             0.760         0.04  ...       0.65      9.8        5\n",
            "3              11.2             0.280         0.56  ...       0.58      9.8        6\n",
            "4               7.4             0.700         0.00  ...       0.56      9.4        5\n",
            "...             ...               ...          ...  ...        ...      ...      ...\n",
            "1594            6.2             0.600         0.08  ...       0.58     10.5        5\n",
            "1595            5.9             0.550         0.10  ...       0.76     11.2        6\n",
            "1596            6.3             0.510         0.13  ...       0.75     11.0        6\n",
            "1597            5.9             0.645         0.12  ...       0.71     10.2        5\n",
            "1598            6.0             0.310         0.47  ...       0.66     11.0        6\n",
            "\n",
            "[1599 rows x 12 columns]\n"
          ],
          "name": "stdout"
        }
      ]
    },
    {
      "cell_type": "code",
      "metadata": {
        "id": "-FOt37jZi4uS"
      },
      "source": [
        "#create a new variable 'wine_type': \"red\" and \"white\" for an easier concatenation in ONE dataframe.\n",
        "\n",
        "red_wine['wine_type'] = 'red'"
      ],
      "execution_count": 6,
      "outputs": []
    },
    {
      "cell_type": "code",
      "metadata": {
        "id": "1Q890pnzi4uT"
      },
      "source": [
        "white_wine['wine_type'] = 'white'"
      ],
      "execution_count": 7,
      "outputs": []
    },
    {
      "cell_type": "code",
      "metadata": {
        "id": "JrgUawPKhIzv",
        "colab": {
          "base_uri": "https://localhost:8080/"
        },
        "outputId": "1e990381-da25-4cf3-8d02-d2d8dd6a9a46"
      },
      "source": [
        "# In both  datasets there was already collected and provided a categorization on the wines produced. \n",
        "# from 1 - 9 where 9 is the highest and 1 the lowest quality.\n",
        "# For an easier analysis and creation of a prediction model, the quality of wines would be re-organized\n",
        "# in \"low\", \"medium\" and \"high\" quality labels.\n",
        "\n",
        "red_wine['quality'].value_counts()"
      ],
      "execution_count": 8,
      "outputs": [
        {
          "output_type": "execute_result",
          "data": {
            "text/plain": [
              "5    681\n",
              "6    638\n",
              "7    199\n",
              "4     53\n",
              "8     18\n",
              "3     10\n",
              "Name: quality, dtype: int64"
            ]
          },
          "metadata": {
            "tags": []
          },
          "execution_count": 8
        }
      ]
    },
    {
      "cell_type": "code",
      "metadata": {
        "id": "OSAJeS1bi4uT"
      },
      "source": [
        "# bucket \"red\" and \"white\" wine quality scores into qualitative quality labels\n",
        "\n",
        "red_wine['quality_label'] = red_wine['quality'].apply(lambda value: 'low'\n",
        "if value <= 5 else 'medium'\n",
        "if value <= 7 else 'high')"
      ],
      "execution_count": 9,
      "outputs": []
    },
    {
      "cell_type": "code",
      "metadata": {
        "id": "eqC69vyGi4uT"
      },
      "source": [
        "red_wine['quality_label'] = pd.Categorical(red_wine['quality_label'],\n",
        "categories=['low', 'medium', 'high'])"
      ],
      "execution_count": 10,
      "outputs": []
    },
    {
      "cell_type": "code",
      "metadata": {
        "id": "_MyozLTBi4uU"
      },
      "source": [
        "white_wine['quality_label'] = white_wine['quality'].apply(lambda value: 'low'\n",
        "if value <= 5 else 'medium'\n",
        "if value <= 7 else 'high')"
      ],
      "execution_count": 11,
      "outputs": []
    },
    {
      "cell_type": "code",
      "metadata": {
        "id": "cMrGcm86i4uU"
      },
      "source": [
        "white_wine['quality_label'] = pd.Categorical(white_wine['quality_label'],\n",
        "categories=['low', 'medium', 'high'])\n",
        "\n",
        "# we transform the new column from an object to a category in order to tell the machine not to order the data \n",
        "# in alphabetic order and let it know that all have \"the same value\""
      ],
      "execution_count": 12,
      "outputs": []
    },
    {
      "cell_type": "code",
      "metadata": {
        "id": "3r3Pm3U-i4uV"
      },
      "source": [
        "#combine the two datasets into one : \"wines\"\n",
        "\n",
        "wines = pd.concat([red_wine, white_wine])"
      ],
      "execution_count": 13,
      "outputs": []
    },
    {
      "cell_type": "code",
      "metadata": {
        "id": "ohLNLZTGi4uV"
      },
      "source": [
        "# re-shuffle records just to randomize data points\n",
        "wines = wines.sample(frac=1, random_state=42).reset_index(drop=True)"
      ],
      "execution_count": 14,
      "outputs": []
    },
    {
      "cell_type": "code",
      "metadata": {
        "id": "TGaaJJMwi4uW",
        "colab": {
          "base_uri": "https://localhost:8080/"
        },
        "outputId": "fffcc34c-5d1c-4918-9b68-e5e86a98d3ed"
      },
      "source": [
        "#Observe if there is missing values\n",
        "wines.isnull().any()\n"
      ],
      "execution_count": 15,
      "outputs": [
        {
          "output_type": "execute_result",
          "data": {
            "text/plain": [
              "fixed acidity           False\n",
              "volatile acidity        False\n",
              "citric acid             False\n",
              "residual sugar          False\n",
              "chlorides               False\n",
              "free sulfur dioxide     False\n",
              "total sulfur dioxide    False\n",
              "density                 False\n",
              "pH                      False\n",
              "sulphates               False\n",
              "alcohol                 False\n",
              "quality                 False\n",
              "wine_type               False\n",
              "quality_label           False\n",
              "dtype: bool"
            ]
          },
          "metadata": {
            "tags": []
          },
          "execution_count": 15
        }
      ]
    },
    {
      "cell_type": "code",
      "metadata": {
        "id": "MvuT66QVi4uX",
        "colab": {
          "base_uri": "https://localhost:8080/"
        },
        "outputId": "4586763f-759c-4de7-d9c8-cc731f80b5d7"
      },
      "source": [
        "wines.isnull().sum().sum()"
      ],
      "execution_count": 16,
      "outputs": [
        {
          "output_type": "execute_result",
          "data": {
            "text/plain": [
              "0"
            ]
          },
          "metadata": {
            "tags": []
          },
          "execution_count": 16
        }
      ]
    },
    {
      "cell_type": "code",
      "metadata": {
        "id": "IeNHtRoXw35x"
      },
      "source": [
        "#save changes for each dataframe and the new combined one\n",
        "red_wine.to_csv('red_wine.csv')\n"
      ],
      "execution_count": 19,
      "outputs": []
    },
    {
      "cell_type": "code",
      "metadata": {
        "id": "iCu84j1TxZLr"
      },
      "source": [
        "white_wine.to_csv(\"white_wine.csv\")"
      ],
      "execution_count": 20,
      "outputs": []
    },
    {
      "cell_type": "code",
      "metadata": {
        "id": "kZmxTuhji4uX"
      },
      "source": [
        "#save new dataframe\n",
        "wines.to_csv('wines.csv')"
      ],
      "execution_count": null,
      "outputs": []
    }
  ]
}